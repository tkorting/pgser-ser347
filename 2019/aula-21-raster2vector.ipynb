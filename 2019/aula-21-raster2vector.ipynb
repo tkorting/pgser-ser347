{
 "cells": [
  {
   "cell_type": "markdown",
   "metadata": {},
   "source": [
    "# Exemplo Contador de focos no pixel\n",
    "\n",
    "Nesta aula será apresentado o processo de extração de valores de um dado matricial para criação de um arquivo CSV e posteriormente um dado vetorial.\n",
    "\n",
    "Também será demonstrada a utilização de uso da biblioteca rasterio, Pyproj e Affine."
   ]
  },
  {
   "cell_type": "code",
   "execution_count": null,
   "metadata": {},
   "outputs": [],
   "source": [
    "# Comando utilizado para instalação de uma biblioteca\n",
    "# Depois da instalação deve ser reiniciado o kernel do Jupyter Notebook\n",
    "\n",
    "# ! conda install -y rasterio"
   ]
  },
  {
   "cell_type": "code",
   "execution_count": null,
   "metadata": {},
   "outputs": [],
   "source": [
    "# Importação das biblitecas necessárias\n",
    "\n",
    "import rasterio\n",
    "from rasterio.plot import show\n",
    "\n",
    "import numpy as np\n",
    "import os\n",
    "\n",
    "from affine import Affine\n",
    "from pyproj import Proj, transform\n",
    "\n",
    "%matplotlib inline"
   ]
  },
  {
   "cell_type": "code",
   "execution_count": null,
   "metadata": {},
   "outputs": [],
   "source": [
    "# Verificar diretorio de trabalho\n",
    "os.getcwd()"
   ]
  },
  {
   "cell_type": "code",
   "execution_count": null,
   "metadata": {},
   "outputs": [],
   "source": [
    "# Modificar o diretorio de trabalho para o local onde estão os dados de interesse\n",
    "os.chdir('/Users/fabianomorelli/ownCloud/notebooks/ipython_notebooks/dados_exemplo/')"
   ]
  },
  {
   "cell_type": "code",
   "execution_count": null,
   "metadata": {},
   "outputs": [],
   "source": [
    "# O dado a ser utilizado deve conter o arquivo de cabeçalho \n",
    "# neste caso o arquivo esperado é foc_sev_20161010.hdr\n",
    "\n",
    "fname = './foc_sev_20161010.bin'"
   ]
  },
  {
   "cell_type": "code",
   "execution_count": null,
   "metadata": {},
   "outputs": [],
   "source": [
    "# Confirma se existe o arquivo\n",
    "os.path.exists(fname)"
   ]
  },
  {
   "cell_type": "code",
   "execution_count": null,
   "metadata": {},
   "outputs": [],
   "source": [
    "# Read raster\n",
    "with rasterio.open(fname) as r:\n",
    "    geo_transfom = r.profile.get(\"transform\")  # upper-left pixel corner affine transform\n",
    "    projecao = r.profile.get(\"crs\")\n",
    "    arr_focos = r.read()  # pixel values"
   ]
  },
  {
   "cell_type": "markdown",
   "metadata": {},
   "source": [
    "Verificação do conteúdo das variáveis"
   ]
  },
  {
   "cell_type": "code",
   "execution_count": null,
   "metadata": {},
   "outputs": [],
   "source": [
    "r.profile"
   ]
  },
  {
   "cell_type": "code",
   "execution_count": null,
   "metadata": {},
   "outputs": [],
   "source": [
    "geo_transfom"
   ]
  },
  {
   "cell_type": "code",
   "execution_count": null,
   "metadata": {},
   "outputs": [],
   "source": [
    "projecao"
   ]
  },
  {
   "cell_type": "markdown",
   "metadata": {},
   "source": [
    "Verificação do dado matricial armazenado dentro do array"
   ]
  },
  {
   "cell_type": "code",
   "execution_count": null,
   "metadata": {},
   "outputs": [],
   "source": [
    "arr_focos"
   ]
  },
  {
   "cell_type": "code",
   "execution_count": null,
   "metadata": {},
   "outputs": [],
   "source": [
    "type(arr_focos)"
   ]
  },
  {
   "cell_type": "code",
   "execution_count": null,
   "metadata": {},
   "outputs": [],
   "source": [
    "arr_focos.shape"
   ]
  },
  {
   "cell_type": "code",
   "execution_count": null,
   "metadata": {},
   "outputs": [],
   "source": [
    "arr_focos.max()"
   ]
  },
  {
   "cell_type": "markdown",
   "metadata": {},
   "source": [
    "Operação para gerar uma lista de valores de linhas e colunas que possuem dados de focos"
   ]
  },
  {
   "cell_type": "code",
   "execution_count": null,
   "metadata": {},
   "outputs": [],
   "source": [
    "listagem = np.where(arr_focos > 0)"
   ]
  },
  {
   "cell_type": "code",
   "execution_count": null,
   "metadata": {},
   "outputs": [],
   "source": [
    "listagem"
   ]
  },
  {
   "cell_type": "code",
   "execution_count": null,
   "metadata": {},
   "outputs": [],
   "source": [
    "# apenas um exemplo de outro método para listar os píxeis diferente de zero\n",
    "arr_focos.nonzero()"
   ]
  },
  {
   "cell_type": "code",
   "execution_count": null,
   "metadata": {},
   "outputs": [],
   "source": [
    "#tamanho das linhas\n",
    "len(listagem[1])"
   ]
  },
  {
   "cell_type": "code",
   "execution_count": null,
   "metadata": {},
   "outputs": [],
   "source": [
    "# Cria uma função para fazer a conversao linha,coluna para lat,lon\n",
    "\n",
    "def lc2ll(colula,linha):\n",
    "    lonlat = (colula,linha) * geo_transfom\n",
    "    return lonlat\n",
    "\n",
    "# CRIAR UMA FUNCAO PARA RETORNAR O VALOR DO PIXEL\n",
    "deg getValue(banda, linha, coluna, matriz):\n",
    "    n = matriz[banda, linha, coluna]\n",
    "    return n"
   ]
  },
  {
   "cell_type": "code",
   "execution_count": null,
   "metadata": {},
   "outputs": [],
   "source": [
    "# Exemplo de uso da função\n",
    "lc2ll(0,0)"
   ]
  },
  {
   "cell_type": "code",
   "execution_count": null,
   "metadata": {},
   "outputs": [],
   "source": [
    "# Exemplo que cria um objeto da inversão da matriz de afine \n",
    "# para converter de latitude/longitude para linha/coluna\n",
    "rev = ~geo_transfom"
   ]
  },
  {
   "cell_type": "code",
   "execution_count": null,
   "metadata": {},
   "outputs": [],
   "source": [
    "# Exemplo de conversão\n",
    "rev * (-83.005, 13.005)"
   ]
  },
  {
   "cell_type": "markdown",
   "metadata": {},
   "source": [
    "Processamento para criação de um arquivo CSV"
   ]
  },
  {
   "cell_type": "code",
   "execution_count": null,
   "metadata": {},
   "outputs": [],
   "source": [
    "# Loop de exemplo para verificar o valor de cada píxel\n",
    "for i in np.arange(len(listagem[1])):\n",
    "    print (i, lc2ll(listagem[2][i], listagem[1][i]))"
   ]
  },
  {
   "cell_type": "code",
   "execution_count": null,
   "metadata": {},
   "outputs": [],
   "source": [
    "# Processamento completo\n",
    "\n",
    "# Abertura de um arquivo para escrita e gravacao da primeira linha\n",
    "f = open('/tmp/myfile', 'w')\n",
    "f.write(str(\"id,longitude,latitude\\n\"))\n",
    "\n",
    "# Loop para escrever cada linha do arquivo destino\n",
    "for i in np.arange(len(listagem[1])):\n",
    "    latlon = lc2ll(listagem[2][i], listagem[1][i])\n",
    "    \n",
    "    # formatacao de uma linha para ser escrita\n",
    "    # note que o \\n representa uma nova linha e é obrigatório\n",
    "    linha = \"{},{},{}\\n\".format(i, latlon[0], latlon[1])\n",
    "    f.write(str(linha))\n",
    "    \n",
    "# final do loop precisa fechar o arquivo\n",
    "f.close()"
   ]
  }
 ],
 "metadata": {
  "hide_input": false,
  "kernelspec": {
   "display_name": "Python 3",
   "language": "python",
   "name": "python3"
  },
  "language_info": {
   "codemirror_mode": {
    "name": "ipython",
    "version": 3
   },
   "file_extension": ".py",
   "mimetype": "text/x-python",
   "name": "python",
   "nbconvert_exporter": "python",
   "pygments_lexer": "ipython3",
   "version": "3.6.7"
  },
  "varInspector": {
   "cols": {
    "lenName": 16,
    "lenType": 16,
    "lenVar": 40
   },
   "kernels_config": {
    "python": {
     "delete_cmd_postfix": "",
     "delete_cmd_prefix": "del ",
     "library": "var_list.py",
     "varRefreshCmd": "print(var_dic_list())"
    },
    "r": {
     "delete_cmd_postfix": ") ",
     "delete_cmd_prefix": "rm(",
     "library": "var_list.r",
     "varRefreshCmd": "cat(var_dic_list()) "
    }
   },
   "oldHeight": 203.9945731163025,
   "position": {
    "height": "225.73370361328125px",
    "left": "875.9239501953125px",
    "right": "20px",
    "top": "120px",
    "width": "356.25px"
   },
   "types_to_exclude": [
    "module",
    "function",
    "builtin_function_or_method",
    "instance",
    "_Feature"
   ],
   "varInspector_section_display": "block",
   "window_display": false
  }
 },
 "nbformat": 4,
 "nbformat_minor": 2
}
