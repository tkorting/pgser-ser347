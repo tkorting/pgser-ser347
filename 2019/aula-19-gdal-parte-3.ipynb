{
 "cells": [
  {
   "cell_type": "markdown",
   "metadata": {},
   "source": [
    "# GDAL - Parte III\n",
    "\n",
    "Passos necessários para manipular imagens:\n",
    "* importar bibliotecas (GDAL, NumPy, etc)\n",
    "* definir o caminho correto dos arquivos raster\n",
    "* abrir um dataset para cada arquivo\n",
    "* verificar compatibilidade dos metadados\n",
    "* obter as bandas de cada raster\n",
    "* converter as bandas para matrizes no formato NumPy\n",
    "* manipular números digitais presentes nas matrizes\n",
    "* (se necessário) salvar as informações em um novo arquivo raster"
   ]
  },
  {
   "cell_type": "code",
   "execution_count": 1,
   "metadata": {},
   "outputs": [],
   "source": [
    "# importar bibliotecas\n",
    "from osgeo import gdal\n",
    "import numpy as np\n",
    "from matplotlib import pyplot as plt\n",
    "\n",
    "# importar constantes\n",
    "from gdalconst import *\n",
    "\n",
    "# informar o uso de exceções\n",
    "gdal.UseExceptions()\n",
    "\n",
    "# biblioteca de funções relacionadas ao sistema\n",
    "# sys: System-specific parameters and functions\n",
    "import sys"
   ]
  },
  {
   "cell_type": "markdown",
   "metadata": {},
   "source": [
    "## Exercício - Abrir duas imagens (crop-1-band-5.tif e crop-1-band-7.tif), realizar uma aritmética de bandas (usar NDVI) e aplicar um fatiamento (pixels > 0.5)"
   ]
  },
  {
   "cell_type": "code",
   "execution_count": 2,
   "metadata": {},
   "outputs": [],
   "source": [
    "# abrir 2 imagens com 1 banda cada\n",
    "filename_crop_1_band_5 = \"./raster/crop-1-band-5.tif\" # red\n",
    "filename_crop_1_band_7 = \"./raster/crop-1-band-7.tif\" # nir\n",
    "\n",
    "try:\n",
    "    dataset_crop_1_band_5 = gdal.Open(filename_crop_1_band_5, GA_ReadOnly) \n",
    "    dataset_crop_1_band_7 = gdal.Open(filename_crop_1_band_7, GA_ReadOnly) \n",
    "except:\n",
    "    print (\"Erro na abertura de algum arquivo!\")\n",
    "\n",
    "# todas as imagens possuem uma banda cada\n",
    "crop_1_band_5 = dataset_crop_1_band_5.GetRasterBand(1)\n",
    "crop_1_band_7 = dataset_crop_1_band_7.GetRasterBand(1)\n",
    "\n",
    "# para se realizar cálculos com as bandas, usamos a conversão para matriz numpy\n",
    "numpy_crop_1_band_5 = crop_1_band_5.ReadAsArray()\n",
    "numpy_crop_1_band_7 = crop_1_band_7.ReadAsArray()\n",
    "\n",
    "# criar banda de índice de vegetação e aplicar fatiamento\n",
    "numpy_crop_1_ndvi = (numpy_crop_1_band_7 - numpy_crop_1_band_5) / \\\n",
    "                    (numpy_crop_1_band_7 + numpy_crop_1_band_5)\n",
    "numpy_output = numpy_crop_1_ndvi > 0.5"
   ]
  },
  {
   "cell_type": "code",
   "execution_count": 3,
   "metadata": {},
   "outputs": [
    {
     "name": "stdout",
     "output_type": "stream",
     "text": [
      "[[1.85628743e-01 3.76623377e-01 6.61909091e+02 ... 1.17852975e-01\n",
      "  5.85585586e-02 8.41750842e-02]\n",
      " [4.74869565e+02 6.17283951e-03 1.68831169e-01 ... 1.62123386e-01\n",
      "  1.55555556e-01 8.75000000e-02]\n",
      " [1.73524150e-01 1.51428571e-01 1.36294028e-01 ... 1.93875740e+02\n",
      "  1.01214575e-01 1.68975069e-01]\n",
      " ...\n",
      " [1.75000000e-01 1.03448276e-01 1.37313433e-01 ... 3.16770186e-01\n",
      "  3.17073171e-01 2.28187919e-01]\n",
      " [1.62790698e-01 1.66007905e-01 1.31313131e-01 ... 3.97849462e-01\n",
      "  2.42236025e-01 3.63344051e-01]\n",
      " [1.49466192e-01 1.43369176e-01 1.81969950e-01 ... 1.69491525e-02\n",
      "  1.63398693e-01 1.15942029e-01]]\n",
      "[[False False  True ... False False False]\n",
      " [ True False False ... False False False]\n",
      " [False False False ...  True False False]\n",
      " ...\n",
      " [False False False ... False False False]\n",
      " [False False False ... False False False]\n",
      " [False False False ... False False False]]\n"
     ]
    }
   ],
   "source": [
    "print(numpy_crop_1_ndvi)\n",
    "print(numpy_output)"
   ]
  },
  {
   "cell_type": "markdown",
   "metadata": {},
   "source": [
    "## Salvando um raster\n",
    "\n",
    "Neste exemplo, vamos abrir duas bandas, realizar uma aritmética (NDVI) seguida de um fatiamento, e salvar o resultado num arquivo GeoTIFF. Para salvar um arquivo com imagens, é preciso criar um novo dataset, informar todos os metadados relacionados ao contexto geográfico (sistema de projeção, limite geográfico, etc.) além do número de bandas, número de linhas e colunas."
   ]
  },
  {
   "cell_type": "code",
   "execution_count": 4,
   "metadata": {},
   "outputs": [],
   "source": [
    "# obter metadados\n",
    "linhas = dataset_crop_1_band_5.RasterYSize\n",
    "colunas = dataset_crop_1_band_5.RasterXSize\n",
    "bandas = 1\n",
    "\n",
    "# salvar banda em arquivo GeoTIFF\n",
    "# definir nome do arquivo\n",
    "filename_output = \"./raster/crop-1-ndvi-threshold.tif\"\n",
    "# definir driver\n",
    "driver = gdal.GetDriverByName('GTiff')\n",
    "# copiar tipo de dados da banda já existente\n",
    "data_type = crop_1_band_5.DataType\n",
    "# criar novo dataset\n",
    "dataset_output = driver.Create(filename_output, colunas, linhas, bandas, data_type)\n",
    "# copiar informações espaciais da banda já existente\n",
    "dataset_output.SetGeoTransform(dataset_crop_1_band_5.GetGeoTransform())\n",
    "# copiar informações de projeção\n",
    "dataset_output.SetProjection(dataset_crop_1_band_5.GetProjectionRef())\n",
    "# escrever dados da matriz NumPy na banda\n",
    "dataset_output.GetRasterBand(1).WriteArray(numpy_output)\n",
    "# salvar valores\n",
    "dataset_output.FlushCache()\n",
    "# fechar dataset\n",
    "dataset_output = None"
   ]
  },
  {
   "cell_type": "markdown",
   "metadata": {},
   "source": [
    "# Exercício - criar uma função `salvar_banda` para salvar um raster de _uma banda_, tendo como parâmetros uma matriz NumPy com os pixels, o nome do arquivo GeoTIFF, e um dataset de referência (para copiar os metadados)"
   ]
  },
  {
   "cell_type": "code",
   "execution_count": null,
   "metadata": {
    "collapsed": true
   },
   "outputs": [],
   "source": [
    "def salvar_banda(matriz_de_pixels, nome_do_arquivo, dataset_de_referencia):\n",
    "    # obter metadados\n",
    "    linhas = dataset_de_referencia.RasterYSize\n",
    "    colunas = dataset_de_referencia.RasterXSize\n",
    "    bandas = 1\n",
    "    # definir driver\n",
    "    driver = gdal.GetDriverByName('GTiff')\n",
    "    # copiar tipo de dados da banda já existente\n",
    "    data_type = dataset_de_referencia.GetRasterBand(1).DataType\n",
    "    # criar novo dataset\n",
    "    dataset_output = driver.Create(nome_do_arquivo, colunas, linhas, bandas, data_type)\n",
    "    # copiar informações espaciais da banda já existente\n",
    "    dataset_output.SetGeoTransform(dataset_de_referencia.GetGeoTransform())\n",
    "    # copiar informações de projeção\n",
    "    dataset_output.SetProjection(dataset_de_referencia.GetProjectionRef())\n",
    "    # escrever dados da matriz NumPy na banda\n",
    "    dataset_output.GetRasterBand(1).WriteArray(matriz_de_pixels)\n",
    "    # salvar valores\n",
    "    dataset_output.FlushCache()\n",
    "    # fechar dataset\n",
    "    dataset_output = None"
   ]
  },
  {
   "cell_type": "markdown",
   "metadata": {},
   "source": [
    "## Exercício - dados dois rasters de 1 banda cada (1 mapa temático, 1 mapa de referência), calcule a taxa de acerto da classificação do mapa temático e salve um arquivo GeoTIFF contendo um mapa de concordância entre as imagens"
   ]
  },
  {
   "cell_type": "code",
   "execution_count": null,
   "metadata": {},
   "outputs": [],
   "source": [
    "# abrir as imagens\n",
    "filename_reference = \"./raster/referencia_area_urbana.tif\"\n",
    "filename_classification = \"./raster/classificacao_area_urbana.tif\"\n",
    "\n",
    "try:\n",
    "    dataset_reference = gdal.Open(filename_reference, GA_ReadOnly) \n",
    "    dataset_classification = gdal.Open(filename_classification, GA_ReadOnly) \n",
    "except:\n",
    "    print (\"Erro na abertura de algum arquivo!\")\n",
    "\n",
    "# verificar compatibilidade de metadados\n",
    "if (dataset_reference.GetProjectionRef() != dataset_classification.GetProjectionRef()):\n",
    "    print(\"Sistemas de referência diferentes\")\n",
    "elif (dataset_reference.GetGeoTransform() != dataset_classification.GetGeoTransform()):\n",
    "    print(\"Metadados espaciais diferentes\")\n",
    "else:\n",
    "    # obter metadados\n",
    "    linhas = dataset_reference.RasterYSize\n",
    "    colunas = dataset_reference.RasterXSize\n",
    "\n",
    "    # obter as bandas\n",
    "    band_reference = dataset_reference.GetRasterBand(1)\n",
    "    band_classification = dataset_classification.GetRasterBand(1)\n",
    "\n",
    "    # gerar matrizes de pixels\n",
    "    numpy_reference = band_reference.ReadAsArray()\n",
    "    numpy_classification = band_classification.ReadAsArray()\n",
    "\n",
    "    # gerar matriz de comparação\n",
    "    numpy_comparison = (numpy_reference == numpy_classification)\n",
    "    accuracy = 100 * numpy_comparison.sum() / (linhas * colunas)\n",
    "\n",
    "    # plotar resultados\n",
    "    plt.figure(figsize=(15, 4))\n",
    "\n",
    "    plt.subplot(131)\n",
    "    plt.imshow(numpy_reference)\n",
    "    plt.title('Imagem de referência')\n",
    "\n",
    "    plt.subplot(132)\n",
    "    plt.imshow(numpy_classification)\n",
    "    plt.title('Imagem classificada')\n",
    "\n",
    "    plt.subplot(133)\n",
    "    plt.imshow(numpy_comparison)\n",
    "    plt.title('Imagem de comparação, ' + str(accuracy) + '% de acurácia')\n",
    "\n",
    "# salvar imagem de concordância\n",
    "nome_do_arquivo = \"./raster/comparacao.tif\"\n",
    "salvar_banda(numpy_comparison, nome_do_arquivo, dataset_reference)\n",
    "\n",
    "# fechar imagens\n",
    "dataset_reference = None\n",
    "dataset_classification = None"
   ]
  },
  {
   "cell_type": "markdown",
   "metadata": {},
   "source": [
    "## Exercício - Dadas 2 imagens (`raster_alvo` e `raster_entrada`), encontrar a localização da imagem `raster_alvo` dentro da imagem `raster_entrada` e plotar o resultado (`raster_entrada` com um `x` sobreposto na localização)"
   ]
  },
  {
   "cell_type": "code",
   "execution_count": null,
   "metadata": {},
   "outputs": [],
   "source": [
    "# definir onde estao as imagens\n",
    "raster_entrada = './raster/american-anticipation-audience-163368.jpg'\n",
    "raster_alvo = './raster/target_2.jpg'\n",
    "\n",
    "# gerar datasets gdal\n",
    "dataset_entrada = gdal.Open(raster_entrada, GA_ReadOnly)\n",
    "dataset_alvo = gdal.Open(raster_alvo, GA_ReadOnly)\n",
    "\n",
    "# obter as bandas\n",
    "banda_entrada = dataset_entrada.GetRasterBand(1).ReadAsArray()\n",
    "banda_alvo = dataset_alvo.GetRasterBand(1).ReadAsArray()\n",
    "\n",
    "# obter metadados da imagem de entrada\n",
    "Linhas_entrada = dataset_entrada.RasterYSize\n",
    "Colunas_entrada = dataset_entrada.RasterXSize\n",
    "\n",
    "# obter metadados da imagem de alvo\n",
    "Linhas_alvo = dataset_alvo.RasterYSize\n",
    "Colunas_alvo = dataset_alvo.RasterXSize\n",
    "\n",
    "# encontrar linha/coluna do alvo na imagem de entrada\n",
    "linha = 0\n",
    "coluna = 0\n",
    "# criar variável para armazenar a região de maior semelhança\n",
    "maior_semelhanca = 0\n",
    "for r in range(Linhas_entrada - Linhas_alvo):\n",
    "    for c in range(Colunas_entrada - Colunas_alvo):\n",
    "        # criar janela com recorte do mesmo tamanho da banda_alvo\n",
    "        janela = banda_entrada[r:r+Linhas_alvo, c:c+Colunas_alvo]\n",
    "        # comparar quantos pixels são iguais entre as duas janelas\n",
    "        pixels_iguais = (banda_alvo == janela)\n",
    "        somatorio = pixels_iguais.sum()\n",
    "        if (somatorio > maior_semelhanca):\n",
    "            linha = r\n",
    "            coluna = c\n",
    "            maior_semelhanca = somatorio\n",
    "\n",
    "# apresentar resultado\n",
    "plt.imshow(banda_alvo, cmap = 'gray')\n",
    "plt.title('Imagem de alvo')\n",
    "\n",
    "# obter as bandas em forma de array para visualização em cores\n",
    "array_rgb = np.zeros((Linhas_entrada, Colunas_entrada, 3), dtype=np.uint8)\n",
    "array_rgb[:,:,0] = dataset_entrada.GetRasterBand(1).ReadAsArray()\n",
    "array_rgb[:,:,1] = dataset_entrada.GetRasterBand(2).ReadAsArray()\n",
    "array_rgb[:,:,2] = dataset_entrada.GetRasterBand(3).ReadAsArray()\n",
    "\n",
    "plt.figure(figsize=(16,9))\n",
    "# plt.imshow(banda_entrada, cmap = 'gray', aspect='auto')\n",
    "plt.imshow(array_rgb, aspect='auto')\n",
    "plt.title('Imagem de entrada')\n",
    "plt.plot(coluna+Colunas_alvo/2, linha+Linhas_alvo/2,\n",
    "         marker='o', markersize=30, markeredgewidth=3, \n",
    "         markeredgecolor='yellow', markerfacecolor='none')\n",
    "\n",
    "# fechar os arquivos\n",
    "dataset_entrada = None\n",
    "dataset_alvo = None"
   ]
  }
 ],
 "metadata": {
  "kernelspec": {
   "display_name": "Python 3",
   "language": "python",
   "name": "python3"
  },
  "language_info": {
   "codemirror_mode": {
    "name": "ipython",
    "version": 3
   },
   "file_extension": ".py",
   "mimetype": "text/x-python",
   "name": "python",
   "nbconvert_exporter": "python",
   "pygments_lexer": "ipython3",
   "version": "3.6.4"
  }
 },
 "nbformat": 4,
 "nbformat_minor": 2
}
