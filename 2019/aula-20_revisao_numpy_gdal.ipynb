{
 "cells": [
  {
   "cell_type": "markdown",
   "metadata": {},
   "source": [
    "#  Aula sobre processamento de dados matriciais\n",
    "\n",
    "\n",
    "Neste Exemplo são apresentados métodos de leitura de arquivos matriciais de vários arquivos em  uma pasta para então processar todos os arquivo. Um ponto importante é que os dados foram lidos como array multidimensional, portanto sem informação espacial, porém o arquivo de saída foi  transformado em um Geotiff.\n"
   ]
  },
  {
   "cell_type": "code",
   "execution_count": null,
   "metadata": {
    "hide_input": false
   },
   "outputs": [],
   "source": [
    "import numpy as np\n",
    "\n",
    "from osgeo import gdal\n",
    "from osgeo import osr\n",
    "from gdalconst import *\n",
    "\n",
    "import os\n",
    "import shutil\n",
    "\n",
    "import glob\n",
    "import matplotlib.pyplot as plt\n",
    "%matplotlib inline"
   ]
  },
  {
   "cell_type": "markdown",
   "metadata": {
    "collapsed": true
   },
   "source": [
    " Exemplo de um caminho completo para chegar a um arquivo no windows.\n",
    " \n",
    " Note que as barras estão todas apresentadas conforme o windows explorer mostra \n",
    " em um copiar e colar. \n",
    " \n",
    " O r em frente a string serve para forçar a leitura RAW da string.\n",
    " \n",
    " \n",
    " Isto é uma forma do python tirar a força dos caracteres especiais que podem estar contidos na string.\n",
    " \n",
    " \n",
    " Por exemplo: \n",
    "     \\t é a representacao especial de uma tabulacao, \n",
    "     \\n de nova linha.\n",
    "\n",
    "\n",
    "#### arquivo_entrada = r\"c:\\Documents\\dados\\foc_sev_20161010.bin\"\n",
    "\n",
    " Outras formas de endereçar um arquivo no windows sem dar problemas no problemas são:\n",
    " \n",
    "     1) adicionar duas barras \"c:\\\\Documents\\\\dados\\\\foc_sev_20161010.bin\"\n",
    " \n",
    "     2) trocar por barra invertida \"c:/Documents/dados/foc_sev_20161010.bin\"\n",
    "\n",
    " Em Linux e MacOS o caminho padrão é sempre a barra invertida\n",
    "\n",
    "#### arquivo_entrada = \"dados_exemplo/focos/2010_09_grd_focos.bin\""
   ]
  },
  {
   "cell_type": "code",
   "execution_count": null,
   "metadata": {},
   "outputs": [],
   "source": [
    "# Verificar diretorio de trabalho\n",
    "os.getcwd()"
   ]
  },
  {
   "cell_type": "code",
   "execution_count": null,
   "metadata": {},
   "outputs": [],
   "source": [
    "# Modificar o diretorio de trabalho para o local onde estão os dados de interesse\n",
    "os.chdir('/Users/fabianomorelli/ownCloud/notebooks/ipython_notebooks/dados_exemplo/')"
   ]
  },
  {
   "cell_type": "code",
   "execution_count": null,
   "metadata": {},
   "outputs": [],
   "source": [
    "# Confirmar a mudança do diretorio de trabalho\n",
    "os.getcwd()"
   ]
  },
  {
   "cell_type": "code",
   "execution_count": null,
   "metadata": {},
   "outputs": [],
   "source": [
    "# Listar conteudo\n",
    "os.listdir()"
   ]
  },
  {
   "cell_type": "code",
   "execution_count": null,
   "metadata": {},
   "outputs": [],
   "source": [
    "focos = np.fromfile(\"./foc_sev_20161013.bin\", dtype=np.int16)\n",
    "# ou \n",
    "# focos = np.fromfile(caminho/completo/do/arquivo_entrada, dtype=np.int16)"
   ]
  },
  {
   "cell_type": "code",
   "execution_count": null,
   "metadata": {},
   "outputs": [],
   "source": [
    "# Verificar se os dados foram lidos corretamente mostrando o maior valor do arquivo\n",
    "focos.max()"
   ]
  },
  {
   "cell_type": "code",
   "execution_count": null,
   "metadata": {},
   "outputs": [],
   "source": [
    "# Apresentar o menor valor do arquivo\n",
    "focos.min()"
   ]
  },
  {
   "cell_type": "code",
   "execution_count": null,
   "metadata": {},
   "outputs": [],
   "source": [
    "# Modificar o array para uma matriz com 6300 linhas e 5000 colunas\n",
    "focos = focos.reshape(6300,5000)\n",
    "\n",
    "# Outra forma de fazer a mudança é utilizando o metodos resize\n",
    "# focos.resize((6300,5000))"
   ]
  },
  {
   "cell_type": "markdown",
   "metadata": {},
   "source": [
    "<hr>\n",
    "\n",
    "# Exercício - Fazer uma imagem com o somatório da quantidade de focos por píxel.\n",
    "\n",
    "### 1 -  Abrir todos os arquivos de focos de um diretório \n",
    "### 2 - Sequencialmente fazer a soma dos arquivos\n",
    "### 3 - Salvar o resultado em um arquivo em formato ENVI"
   ]
  },
  {
   "cell_type": "code",
   "execution_count": null,
   "metadata": {},
   "outputs": [],
   "source": [
    "# Confirmacao do local de trabalho\n",
    "os.getcwd()"
   ]
  },
  {
   "cell_type": "code",
   "execution_count": null,
   "metadata": {},
   "outputs": [],
   "source": [
    "# Criar um novo arquivo com as mesmas características daqueles de interesse\n",
    "novo = np.zeros_like(focos)\n",
    "\n",
    "# Uma alternativa \n",
    "# novo = np.zeros((6300,5000))"
   ]
  },
  {
   "cell_type": "code",
   "execution_count": null,
   "metadata": {},
   "outputs": [],
   "source": [
    "# Utilizar a biblioteca GLOB para trabalhar apenas com os arquivos específicos\n",
    "glob.glob(\"./f*bin\")"
   ]
  },
  {
   "cell_type": "code",
   "execution_count": null,
   "metadata": {},
   "outputs": [],
   "source": [
    "# Processamento dos dados\n",
    "for nomedoarquivo in  glob.glob(\"./f*bin\"):\n",
    "    print(nomedoarquivo)\n",
    "    focos = np.fromfile(nomedoarquivo, dtype=np.int16).reshape(6300,5000)\n",
    "    novo += focos  # este é o mesmo que fazer ==>     novo = novo + focos\n",
    "\n",
    "print(\"Final do Processamento!!!\")"
   ]
  },
  {
   "cell_type": "code",
   "execution_count": null,
   "metadata": {},
   "outputs": [],
   "source": [
    "novo.max()"
   ]
  },
  {
   "cell_type": "markdown",
   "metadata": {},
   "source": [
    "<hr>\n",
    "\n",
    "# Transformação de um array para um dado georreferênciado\n"
   ]
  },
  {
   "cell_type": "code",
   "execution_count": null,
   "metadata": {},
   "outputs": [],
   "source": [
    "# Definição dos parâmetros de transformação geométrica\n",
    "geotransform = (-83.00, 0.01, 0.0, 13.00, 0.0, -0.01)\n",
    "\n",
    "# Definição do Sistema de Referência Espacial\n",
    "projecao = osr.SRS_WKT_WGS84"
   ]
  },
  {
   "cell_type": "code",
   "execution_count": null,
   "metadata": {},
   "outputs": [],
   "source": [
    "# Verificação da Variável: geotransform\n",
    "print(geotransform)"
   ]
  },
  {
   "cell_type": "code",
   "execution_count": null,
   "metadata": {},
   "outputs": [],
   "source": [
    "# Verificação da Variável: projecao\n",
    "print(projecao)"
   ]
  },
  {
   "cell_type": "code",
   "execution_count": null,
   "metadata": {},
   "outputs": [],
   "source": [
    "# definições de parâmetros para criar o arquivo de saída\n",
    "driver = gdal.GetDriverByName(\"GTIFF\") # pode ser GTiff, ENVI, etc...\n",
    "xsize = 5000\n",
    "ysize = 6300\n",
    "nbandas = 1\n",
    "arquivo_saida = \"/tmp/teste.bin\""
   ]
  },
  {
   "cell_type": "code",
   "execution_count": null,
   "metadata": {},
   "outputs": [],
   "source": [
    "# Utilizar os comando de manipulacao de diretorio e arquivos para verificar se já existe\n",
    "os.path.exists(arquivo_saida)"
   ]
  },
  {
   "cell_type": "code",
   "execution_count": null,
   "metadata": {},
   "outputs": [],
   "source": [
    "# Caso o arquivo exista apagar antes de criar um novo\n",
    "if os.path.exists(arquivo_saida):\n",
    "    os.remove(arquivo_saida)\n",
    "    os.remove(arquivo_saida[:-4] + \".hdr\")\n",
    "    print(\"Arquivo removido com sucesso!\")\n",
    "else:    ## Show an error ##\n",
    "    print(\"Erro: %s arquivo nao encontrado\" % arquivo_saida)"
   ]
  },
  {
   "cell_type": "code",
   "execution_count": null,
   "metadata": {},
   "outputs": [],
   "source": [
    "# definicoes do arquivo de saida\n",
    "dst_ds = driver.Create(arquivo_saida, xsize,ysize, nbandas,gdal.GDT_Int16)"
   ]
  },
  {
   "cell_type": "code",
   "execution_count": null,
   "metadata": {},
   "outputs": [],
   "source": [
    "dst_ds.SetGeoTransform(geotransform)\n",
    "dst_ds.SetProjection(projecao)"
   ]
  },
  {
   "cell_type": "code",
   "execution_count": null,
   "metadata": {},
   "outputs": [],
   "source": [
    "dst_ds.GetRasterBand(1).WriteArray(novo) # note que aqui estamos usando o array que será gravado\n",
    "dst_ds = None"
   ]
  },
  {
   "cell_type": "markdown",
   "metadata": {},
   "source": [
    "<hr>\n",
    "\n",
    "# Verificação conforme a aula de gdal"
   ]
  },
  {
   "cell_type": "code",
   "execution_count": null,
   "metadata": {},
   "outputs": [],
   "source": [
    "dataset = gdal.Open(\"/tmp/teste.bin\", GA_ReadOnly )"
   ]
  },
  {
   "cell_type": "code",
   "execution_count": null,
   "metadata": {},
   "outputs": [],
   "source": [
    "print ('Driver: ', dataset.GetDriver().ShortName,'/', \\\n",
    "      dataset.GetDriver().LongName)\n",
    "print ('Size is ',dataset.RasterXSize,'x',dataset.RasterYSize, \\\n",
    "      'x',dataset.RasterCount)\n",
    "print ('Projection is ',dataset.GetProjection())\n",
    "\n",
    "geotransform = dataset.GetGeoTransform()\n",
    "if not geotransform is None:\n",
    "    print ('Origin = (',geotransform[0], ',',geotransform[3],')')\n",
    "    print ('Pixel Size = (',geotransform[1], ',',geotransform[5],')')"
   ]
  },
  {
   "cell_type": "code",
   "execution_count": null,
   "metadata": {},
   "outputs": [],
   "source": [
    "band = dataset.GetRasterBand(1)\n",
    "\n",
    "print ('Band Type=',gdal.GetDataTypeName(band.DataType))\n",
    "\n",
    "min = band.GetMinimum()\n",
    "max = band.GetMaximum()\n",
    "\n",
    "if min is None or max is None:\n",
    "    print(\"calcula estatistica\")\n",
    "    (min,max) = band.ComputeRasterMinMax(1)\n",
    "    \n",
    "print ('Min=%.3f, Max=%.3f' % (min,max))\n"
   ]
  },
  {
   "cell_type": "markdown",
   "metadata": {},
   "source": [
    "<hr>\n",
    "\n",
    "# Final da aula 20"
   ]
  },
  {
   "cell_type": "code",
   "execution_count": null,
   "metadata": {},
   "outputs": [],
   "source": []
  },
  {
   "cell_type": "code",
   "execution_count": null,
   "metadata": {},
   "outputs": [],
   "source": []
  }
 ],
 "metadata": {
  "kernelspec": {
   "display_name": "Python 3",
   "language": "python",
   "name": "python3"
  },
  "language_info": {
   "codemirror_mode": {
    "name": "ipython",
    "version": 3
   },
   "file_extension": ".py",
   "mimetype": "text/x-python",
   "name": "python",
   "nbconvert_exporter": "python",
   "pygments_lexer": "ipython3",
   "version": "3.6.7"
  },
  "varInspector": {
   "cols": {
    "lenName": 16,
    "lenType": 16,
    "lenVar": 40
   },
   "kernels_config": {
    "python": {
     "delete_cmd_postfix": "",
     "delete_cmd_prefix": "del ",
     "library": "var_list.py",
     "varRefreshCmd": "print(var_dic_list())"
    },
    "r": {
     "delete_cmd_postfix": ") ",
     "delete_cmd_prefix": "rm(",
     "library": "var_list.r",
     "varRefreshCmd": "cat(var_dic_list()) "
    }
   },
   "types_to_exclude": [
    "module",
    "function",
    "builtin_function_or_method",
    "instance",
    "_Feature"
   ],
   "window_display": false
  }
 },
 "nbformat": 4,
 "nbformat_minor": 2
}
